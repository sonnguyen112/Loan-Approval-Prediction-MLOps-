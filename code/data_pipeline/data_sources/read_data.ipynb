{
 "cells": [
  {
   "cell_type": "code",
   "execution_count": 1,
   "metadata": {},
   "outputs": [
    {
     "name": "stdout",
     "output_type": "stream",
     "text": [
      "<class 'pandas.core.frame.DataFrame'>\n",
      "Index: 1818 entries, 0 to 902\n",
      "Data columns (total 6 columns):\n",
      " #   Column           Non-Null Count  Dtype         \n",
      "---  ------           --------------  -----         \n",
      " 0   datetime         1818 non-null   datetime64[ns]\n",
      " 1   driver_id        1818 non-null   int64         \n",
      " 2   conv_rate        1818 non-null   float64       \n",
      " 3   acc_rate         1818 non-null   float64       \n",
      " 4   avg_daily_trips  1818 non-null   int64         \n",
      " 5   created          1818 non-null   datetime64[us]\n",
      "dtypes: datetime64[ns](1), datetime64[us](1), float64(2), int64(2)\n",
      "memory usage: 99.4 KB\n"
     ]
    }
   ],
   "source": [
    "import pandas as pd\n",
    "\n",
    "driver_stats = pd.read_parquet(\"./driver_stats.parquet\")\n",
    "driver_stats.info()"
   ]
  }
 ],
 "metadata": {
  "kernelspec": {
   "display_name": "mlops_course",
   "language": "python",
   "name": "python3"
  },
  "language_info": {
   "codemirror_mode": {
    "name": "ipython",
    "version": 3
   },
   "file_extension": ".py",
   "mimetype": "text/x-python",
   "name": "python",
   "nbconvert_exporter": "python",
   "pygments_lexer": "ipython3",
   "version": "3.9.18"
  }
 },
 "nbformat": 4,
 "nbformat_minor": 2
}
